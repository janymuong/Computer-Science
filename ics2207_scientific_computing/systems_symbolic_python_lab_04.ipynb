{
 "cells": [
  {
   "cell_type": "markdown",
   "metadata": {
    "id": "pPHM9JmnDbie"
   },
   "source": [
    "SCT211-0848/2018  \n",
    "Jany Muong\n",
    "\n",
    "ICS 2207: Scientific Computing - Computer Science\n",
    "\n",
    "$\\;$\n"
   ]
  },
  {
   "cell_type": "markdown",
   "metadata": {
    "id": "FpnYq3ueO1Cs"
   },
   "source": [
    "## COMPUTING MOLAR MASS OF SOLUTIONS\n",
    "\n",
    "## Question\n",
    "\n",
    "A lab group is combining different amounts of 3 salts to obtain various weights of the final product. They combine 2 mol of salt A, 3 mol of salt B, and 1 mol of salt C to make 312.1 g of the final product. Then, they combine 1 mol of salt A, 2 mol of salt B, and 1 mol of salt C to make 216.7 g of the final product. Finally, the lab group combines 1 mol of salt A, 1 mol of salt B, and 2 mol of salt C to make\n",
    "264 g of the final product. Find the molar mass of each salt.\n",
    "\n",
    "$\\;$\n",
    "\n",
    "system:  \n",
    "\n",
    "$\\; \\; \\; 2A \\; +  \\; 3B + C \\; = 312.1$\n",
    "\n",
    "$\\; \\; \\; A \\; +  \\; B + 2C \\; = 264$\n",
    "\n",
    "$\\; \\; \\; A \\; +  \\; 2B + C \\; = 216.7$\n",
    "\n",
    "\n",
    "$\\;$  \n",
    "We start with the **augmented matrix**:  \n",
    "For context, you create an augmented matrix like this - by combining the coefficient matrix equations with the constant matrix to form an augmented matrix.\n",
    "\n",
    "$M$ =\n",
    "  $\\begin{bmatrix}\n",
    "   a_{11} & a_{12} & a_{13} & \\dots & a_{1n} & | & b_1 \\\\\n",
    "   a_{21} & a_{22} & a_{23} & \\dots & a_{2n} & | & b_2 \\\\\n",
    "   \\vdots & \\vdots & \\vdots & \\ddots & \\vdots & | & \\vdots \\\\\n",
    "   a_{m1} & a_{m2} & a_{m3} & \\dots & a_{mn} & | & b_m \\\\\n",
    "   \\end{bmatrix}$\n",
    "\n",
    "$\\;$\n",
    "\n",
    "This is our augmented matrix;\n",
    "$M$ =\n",
    "$\\begin{bmatrix}\n",
    "2 & 3 & 1 & | & 312.1 \\\\\n",
    "1 & 1 & 2 & | & 264 \\\\\n",
    "1 & 2 & 1 & | & 216.7\n",
    "\\end{bmatrix}$\n",
    "\n",
    "$\\;$\n",
    "\n",
    "### Row Reduction:\n",
    "We normalize the pivot row in the context of Gaussian elimination or Gauss-Jordan elimination by dividing all the elements in the pivot row by the value of the pivot element itself. This operation ensures that the pivot element becomes 1, simplifying subsequent row operations and maintaining the equivalence of the system of equations. By normalizing the pivot row, subsequent elimination steps are easier to perform, leading to a more efficient solution process. Additionally, normalizing the pivot row helps avoid numerical errors that may arise from working with large coefficients.\n",
    "\n",
    "$\\;$\n",
    "\n",
    "$\\begin{bmatrix}\n",
    "2 & 3 & 1 & | & 312.1 \\\\\n",
    "1 & 1 & 2 & | & 264 \\\\\n",
    "1 & 2 & 1 & | & 216.7\n",
    "\\end{bmatrix}$\n",
    "\n",
    "$\\;$\n",
    "\n",
    "$R_2 = R_3 -R_2,\\;R_3 = R_1 - 2R_3$  \n",
    "\n",
    "$\\begin{bmatrix}\n",
    "2 & 3 & 1 & | & 312.1 \\\\\n",
    "0 & -1 & 1 & | & 47.3 \\\\\n",
    "0 & 1 & -3 & | & -215.9\n",
    "\\end{bmatrix}$\n",
    "\n",
    "\n",
    "$\\;$\n",
    "\n",
    "$R_1 = R_1 + 3R_2,\\;R_3 = R_3 - R_2$  \n",
    "\n",
    "$\\begin{bmatrix}\n",
    "2 & 0 & 4 & | & 454 \\\\\n",
    "0 & -1 & 1 & | & 47.3 \\\\\n",
    "0 & 0 & -2 & | & -168.6\n",
    "\\end{bmatrix}$\n",
    "\n",
    "$\\;$\n",
    "\n",
    "The Gaussian sloution at this point is:\n",
    "$\\;$\n",
    "\n",
    "$-2C = -168.3,\\;so\\;C = 84.3$\n",
    "\n",
    "$-B + C = 47.3,\\;so\\;B = 84.3 - 47.3 = 37.0$\n",
    "\n",
    "$-2A + 4C = 454,\\;so\\;A = 116.8$  \n",
    "\n",
    "\n",
    "### Gauss-Jordan\n",
    "We continue from here to get to RREF(Gauss-Jordan)\n",
    "\n",
    "$\\;$\n",
    "\n",
    "$R_1 = R_1 + 2R_3,\\; R_2 = 2R_2 + R_3$  \n",
    "\n",
    "$\\begin{bmatrix}\n",
    "2 & 0 & 0 & | & 116.8 \\\\\n",
    "0 & -2 & 0 & | & -74 \\\\\n",
    "0 & 0 & -2 & | & -168.6\n",
    "\\end{bmatrix}$\n",
    "\n",
    "$\\;$\n",
    "\n",
    "$R_1 = R_1/2,\\; R_2 = R_2/-2, R_3 = R_3/-2$  \n",
    "\n",
    "$\\begin{bmatrix}\n",
    "1 & 0 & 0 & | & 58.4 \\\\\n",
    "0 & 1 & 0 & | & 37.0 \\\\\n",
    "0 & 0 & 1 & | & 84.3\n",
    "\\end{bmatrix}$\n",
    "\n",
    "$\\;$\n",
    "\n",
    "### Solution\n",
    "$A = 58.4,\\; B = 37.0,\\;C = 84.3$  \n",
    "\n",
    "$\\;$\n",
    "\n",
    "# Symbolic Python Solution\n",
    "The Symbolic Python solution is below:"
   ]
  },
  {
   "cell_type": "code",
   "execution_count": 1,
   "metadata": {
    "colab": {
     "base_uri": "https://localhost:8080/"
    },
    "id": "RYfi8krLe0aE",
    "outputId": "0d49d7fc-cf30-411d-a34a-4f0ea99fca29"
   },
   "outputs": [
    {
     "name": "stdout",
     "output_type": "stream",
     "text": [
      "a = 58.4\n",
      "b = 37.0\n",
      "c = 84.3\n"
     ]
    }
   ],
   "source": [
    "import sympy as sp\n",
    "\n",
    "a, b, c = sp.symbols('a b c')\n",
    "\n",
    "solution = sp.solve((2*a + 3*b + c -312.1,\\\n",
    "                      a + 2*b + c -216.7,\\\n",
    "                      a + b + 2*c -264), (a, b, c))\n",
    "# solutions\n",
    "print(f'a = {solution[a]:.1f}')\n",
    "print(f'b = {solution[b]:.1f}')\n",
    "print(f'c = {solution[c]:.1f}')"
   ]
  },
  {
   "cell_type": "markdown",
   "metadata": {
    "id": "Rmurfjn1gUgI"
   },
   "source": [
    "# VOLUMETRIC ANALYSIS\n",
    "\n",
    "### QUESTION\n",
    "A chemistry student is trying to make 100 mL of a 26% acid solution from a 10% solution, a 20% solution, and a 40% solution.\n",
    "Unfortunately, the lab is out of 20%, so the student uses a 25% solution, and ends up with 100 mL of 28% solution. What volume of each solution did the student use?\n",
    "\n",
    "$\\;$\n",
    "\n",
    "Let $x$ represent the volume of 10% solution, $y$ volume of 20% solution and $z$ volume of 40% solution.\n",
    "\n",
    "system:  \n",
    "\n",
    "$\\; \\; \\; x \\; +  \\; y + z \\; = 100$\n",
    "\n",
    "$\\; \\; \\; 0.1x \\; +  \\; 0.2y + 0.4z \\; = 0.26$\n",
    "\n",
    "$\\; \\; \\; 0.1x \\; +  \\; 0.25y + 0.4z \\; = 0.28$\n",
    "\n",
    "For simplicity we multiply each equation by 100.\n",
    "\n",
    "$\\;$  \n",
    "We start with the **augmented matrix**:  \n",
    "For context, you create an augmented matrix like this - by combining the coefficient matrix equations with the constant matrix to form an augmented matrix.\n",
    "\n",
    "$M$ =\n",
    "  $\\begin{bmatrix}\n",
    "   a_{11} & a_{12} & a_{13} & \\dots & a_{1n} & | & b_1 \\\\\n",
    "   a_{21} & a_{22} & a_{23} & \\dots & a_{2n} & | & b_2 \\\\\n",
    "   \\vdots & \\vdots & \\vdots & \\ddots & \\vdots & | & \\vdots \\\\\n",
    "   a_{m1} & a_{m2} & a_{m3} & \\dots & a_{mn} & | & b_m \\\\\n",
    "   \\end{bmatrix}$\n",
    "\n",
    "$\\;$\n",
    "\n",
    "This is our augmented matrix;\n",
    "$M$ =\n",
    "$\\begin{bmatrix}\n",
    "1 & 1 & 1 & | & 100 \\\\\n",
    "0.1 & 0.2 & 0.4 & | & 26 \\\\\n",
    "0.1 & 0.25 & 0.4 & | & 28\n",
    "\\end{bmatrix}$\n",
    "\n",
    "$\\;$\n",
    "\n",
    "#### Gaussian Elimination\n",
    "\n",
    "$R_2 = 10R_2 - R_1,\\;R_3 = 10R_3 - R_1$  \n",
    "\n",
    "$\\begin{bmatrix}\n",
    "1 & 1 & 1 & | & 100 \\\\\n",
    "0 & 1 & 3 & | & 160 \\\\\n",
    "0 & 0.5 & 3 & | & 180\n",
    "\\end{bmatrix}$\n",
    "\n",
    "$\\;$\n",
    "\n",
    "\n",
    "\n",
    "$R_3 = 3R_2 - 2R_3$  \n",
    "\n",
    "$\\begin{bmatrix}\n",
    "1 & 1 & 1 & | & 100 \\\\\n",
    "0 & 1 & 3 & | & 160 \\\\\n",
    "0 & 0 & 3 & | & 120\n",
    "\\end{bmatrix}$\n",
    "\n",
    "$\\;$\n",
    "\n",
    "At this point the equation is in Gaussian form w/ an upper triangle and we can do back-substitution as below.\n",
    "\n",
    "$\\;$\n",
    "\n",
    "$3z = 120,\\;z = 40$  \n",
    "$y + 3z = 160,\\;so\\;y + 3(40) = 160,\\;y = 160 - 120,\\;y = 40$   \n",
    "$x + y + z = 100,\\;x + 40 + 40 = 100,\\;x =  100 - 80 = 20$\n",
    "\n",
    "$\\;$\n",
    "\n",
    "\n",
    "#### Gauss-Jordan\n",
    "We continue to Row Reduced Echelon Form(RREF) elimination method also known as the Gauss-Jordan algorithm.\n",
    "\n",
    "$R_1 = R_1 - R_2$\n",
    "\n",
    "$\\begin{bmatrix}\n",
    "1 & 0 & -2 & | & -60 \\\\\n",
    "0 & 1 & 3 & | & 160 \\\\\n",
    "0 & 0 & 3 & | & 120\n",
    "\\end{bmatrix}$\n",
    "\n",
    "\n",
    "$\\;$\n",
    "$R_1 = 3R_1 + 2R_3$\n",
    "\n",
    "$\\begin{bmatrix}\n",
    "3 & 0 & 0 & | & 60 \\\\\n",
    "0 & 1 & 3 & | & 160 \\\\\n",
    "0 & 0 & 3 & | & 120\n",
    "\\end{bmatrix}$\n",
    "\n",
    "$\\;$\n",
    "\n",
    "$R_2 = R_1 + R_3$\n",
    "\n",
    "$\\begin{bmatrix}\n",
    "3 & 0 & 0 & | & 60 \\\\\n",
    "0 & 1 & 0 & | & 40 \\\\\n",
    "0 & 0 & 3 & | & 120\n",
    "\\end{bmatrix}$\n",
    "\n",
    "$\\;$\n",
    "\n",
    "$R_1 = R_1/3,\\;R_3 = R_3/3$\n",
    "\n",
    "$\\begin{bmatrix}\n",
    "1 & 0 & 0 & | & 20 \\\\\n",
    "0 & 1 & 0 & | & 40 \\\\\n",
    "0 & 0 & 1 & | & 40\n",
    "\\end{bmatrix}$\n",
    "\n",
    "$\\;$\n",
    "\n",
    "#### Solutions;\n",
    "In RREF form(Gauss-Jordan we can read off the solutions directly from the matrix).\n",
    "\n",
    "$\\;$\n",
    "\n",
    "$x = 20,\\;y = 40,\\;z = 40$  \n",
    "\n",
    "$\\;$\n",
    "\n",
    "## Symbolic Python Solution\n",
    "The same system is solved using symbolic Python as shown below.\n",
    "\n"
   ]
  },
  {
   "cell_type": "code",
   "execution_count": 2,
   "metadata": {
    "colab": {
     "base_uri": "https://localhost:8080/"
    },
    "id": "tIeog3-la52I",
    "outputId": "840a9920-689c-4814-efb0-b810c922d6df"
   },
   "outputs": [
    {
     "name": "stdout",
     "output_type": "stream",
     "text": [
      "x = 20\n",
      "y = 40\n",
      "z = 40\n"
     ]
    }
   ],
   "source": [
    "import sympy as sp\n",
    "\n",
    "x, y, z = sp.symbols('x y z')\n",
    "\n",
    "solution = sp.solve((x + y + z -100,\\\n",
    "                     0.1*x + 0.2*y + 0.4*z -26,\\\n",
    "                     0.1*x + 0.25*y + 0.4*z -28), (x, y, z))\n",
    "\n",
    "print(f'x = {int(solution[x])}')\n",
    "print(f'y = {int(solution[y])}')\n",
    "print(f'z = {int(solution[z])}')"
   ]
  },
  {
   "cell_type": "markdown",
   "metadata": {
    "id": "scqHmwMeov2r"
   },
   "source": [
    "# Bernoulli Equation\n",
    "\n",
    "## About;\n",
    "This is the equation given:\n",
    "$x\\frac{df(x)}{x} + f(x) - f(x)^2$\n",
    "\n",
    "$\\;$\n",
    "\n",
    "The Symbolic Python solution is as below."
   ]
  },
  {
   "cell_type": "code",
   "execution_count": 3,
   "metadata": {
    "colab": {
     "base_uri": "https://localhost:8080/"
    },
    "id": "wEo7D-PSLRWC",
    "outputId": "5bf0ea6b-62d4-45f6-e46f-bc01008b677a"
   },
   "outputs": [
    {
     "data": {
      "text/plain": [
       "[1/2 - sqrt(4*Derivative(f(x), (x, 2)) + 1)/2,\n",
       " sqrt(4*Derivative(f(x), (x, 2)) + 1)/2 + 1/2]"
      ]
     },
     "execution_count": 3,
     "metadata": {},
     "output_type": "execute_result"
    }
   ],
   "source": [
    "import sympy as sp\n",
    "\n",
    "# this is the solution to the Bernoulli equation;\n",
    "# in symbolic python\n",
    "x = sp.Symbol('x')\n",
    "f = sp.Function('f')\n",
    "\n",
    "sp.solve((x*f(x).diff(x,x)/x) + f(x) - f(x)**2, f(x))"
   ]
  },
  {
   "cell_type": "markdown",
   "metadata": {
    "id": "sznxnMno8qBu"
   },
   "source": [
    "# End - File"
   ]
  }
 ],
 "metadata": {
  "colab": {
   "provenance": []
  },
  "kernelspec": {
   "display_name": "Python 3 (ipykernel)",
   "language": "python",
   "name": "python3"
  },
  "language_info": {
   "codemirror_mode": {
    "name": "ipython",
    "version": 3
   },
   "file_extension": ".py",
   "mimetype": "text/x-python",
   "name": "python",
   "nbconvert_exporter": "python",
   "pygments_lexer": "ipython3",
   "version": "3.11.5"
  }
 },
 "nbformat": 4,
 "nbformat_minor": 4
}
