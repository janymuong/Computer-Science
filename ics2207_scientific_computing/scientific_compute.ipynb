{
  "nbformat": 4,
  "nbformat_minor": 0,
  "metadata": {
    "colab": {
      "provenance": [],
      "toc_visible": true
    },
    "kernelspec": {
      "name": "python3",
      "display_name": "Python 3"
    },
    "language_info": {
      "name": "python"
    }
  },
  "cells": [
    {
      "cell_type": "markdown",
      "source": [
        "```\n",
        "SCT211-0848/2018 - Jany Muong\n",
        "ICS 2207: Scientific Computing - Dr. L. Nderu\n",
        "Computer Science 2.2\n",
        "```"
      ],
      "metadata": {
        "id": "bkkuR71z5-Hy"
      }
    },
    {
      "cell_type": "markdown",
      "source": [
        "\n",
        "$\\;$\n",
        "\n",
        "```\n",
        "# This is in LaTeX math formatted as code/expressions\n",
        "```\n",
        "# Problem One: COMPUTE VOLUME OF SPHERES\n",
        "The formula for the surface area, $A$ of a sphere is given by:\n",
        "\n",
        "$A = 4\\pi r^2$, $\\;$ where $PI = 3.14159$ for an estimate of the mathematical constant $\\pi$ , and $r$ is the radius of the sphere.\n",
        "\n",
        "The volume, $V$ of a sphere, can be computed from a modified formula of the area:\n",
        "\n",
        "$V = \\frac{4}{3}\\pi r^3$\n",
        "\n",
        "For example to calculate volume of a sphere of **radius** 7. This is the expression that is evaluated:  \n",
        "$V = \\frac{4}{3} \\; \\times \\; 3.14159 \\; \\times \\; 7 ^ 3 = 1436.75$\n",
        "\n",
        "The Python code below is a way of computing the volume of a sphere:"
      ],
      "metadata": {
        "id": "p_gPU-oohg6T"
      }
    },
    {
      "cell_type": "code",
      "source": [
        "PI = 3.14159\n",
        "# get input from keyboard\n",
        "radius_of_sphere = float(input('Type in the radius: '))"
      ],
      "metadata": {
        "colab": {
          "base_uri": "https://localhost:8080/"
        },
        "id": "QBo_vvP_gnMY",
        "outputId": "59143f3d-1870-43c8-b681-ca6231c3cf70"
      },
      "execution_count": 1,
      "outputs": [
        {
          "name": "stdout",
          "output_type": "stream",
          "text": [
            "Type in the radius: 7\n"
          ]
        }
      ]
    },
    {
      "cell_type": "code",
      "source": [
        "volume_of_sphere = 4/3 * PI * (radius_of_sphere ** 3)"
      ],
      "metadata": {
        "id": "O5RvbjydiJ3k"
      },
      "execution_count": 2,
      "outputs": []
    },
    {
      "cell_type": "code",
      "source": [
        "print(f'Sphere volume: {volume_of_sphere:.2f}')"
      ],
      "metadata": {
        "colab": {
          "base_uri": "https://localhost:8080/"
        },
        "id": "4rWd0_5egsfs",
        "outputId": "88127ada-be04-4a0e-9e1f-a3880b225806"
      },
      "execution_count": 3,
      "outputs": [
        {
          "output_type": "stream",
          "name": "stdout",
          "text": [
            "Sphere volume: 1436.75\n"
          ]
        }
      ]
    },
    {
      "cell_type": "markdown",
      "source": [
        "\n",
        "$\\;$\n",
        "$\\;$\n",
        "$\\;$\n",
        "$\\;$\n",
        "$\\;$\n",
        "\n",
        "```\n",
        "# Systems of Linear Equations in LaTeX Math; this is a typesetting for math syntax;\n",
        "```\n",
        "# Problem Two: SOLVING SYSTEMS OF LINEAR EQUATIONS\n",
        "## Using The Gauss-Jordan Algorithm:\n",
        "Although less efficient than **Gaussian** elimination, the **Gauss-Jordan** algorithm provides the solution to a system of linear equations without the need for back-substitution. Each step involves elementary row operations to simplify the matrix until it reaches a form where the solutions can be directly read off. This is our system to solve:\n",
        "\n",
        "$\\; \\; \\; x_1 \\; +  \\; 2x_2 -x_3 \\; = -2$\n",
        "\n",
        "$2x_1 \\; +  \\; 7x_2 -8x_3 \\; = - 16$\n",
        "\n",
        "$\\; \\; \\; \\; \\; \\; \\; \\; \\; \\; -2x_2 + 2x_3 \\; = 2$  \n",
        "\n",
        "$\\;$  \n",
        "We start with the **augmented matrix**:  \n",
        "For context, you create an augmented matrix like this - by combining the coefficient matrix equations with the constant matrix to form an augmented matrix.\n",
        "\n",
        "$M$ =\n",
        "  $\\begin{bmatrix}\n",
        "   a_{11} & a_{12} & a_{13} & \\dots & a_{1n} & | & b_1 \\\\\n",
        "   a_{21} & a_{22} & a_{23} & \\dots & a_{2n} & | & b_2 \\\\\n",
        "   \\vdots & \\vdots & \\vdots & \\ddots & \\vdots & | & \\vdots \\\\\n",
        "   a_{m1} & a_{m2} & a_{m3} & \\dots & a_{mn} & | & b_m \\\\\n",
        "   \\end{bmatrix}$\n",
        "\n",
        "$\\;$\n",
        "\n",
        "This is our augmented matrix;\n",
        "$M$ =\n",
        "$\\begin{bmatrix}\n",
        "1 & 2 & -1 & | & -2 \\\\\n",
        "2 & 7 & -8 & | & -16 \\\\\n",
        "0 & -2 & 2 & | & 2\n",
        "\\end{bmatrix}$\n",
        "\n",
        "$\\;$\n",
        "\n",
        "### Rows Info:\n",
        "We'll use $R_1, R_2, \\ \\text{and} \\ R_3$ to denote rows.\n",
        "\n",
        "$\\;$\n",
        "\n",
        "### Row Operations\n",
        "\n",
        "Step 1: subtract 2 times the first row from second row; add 1 times the first row to the third row.\n",
        "\n",
        "$\\begin{aligned}\n",
        "    & R_2 = R_2 - 2R_1 \\quad \\text{and} \\quad R_3 = R_3 + R_1 \\\\\n",
        "    & \\begin{bmatrix}\n",
        "    1 & 2 & -1 & | & -2 \\\\\n",
        "    0 & 3 & -6 & | & -12 \\\\\n",
        "    0 & 2 & 1 & | & 0\n",
        "    \\end{bmatrix}\n",
        "\\end{aligned}$\n",
        "\n",
        "$\\;$\n",
        "\n",
        "Step 2: divide second row by 3 to make the leading entry (pivot) in the second row equal to 1.\n",
        "\n",
        "$\\begin{aligned}\n",
        "    & R_2 = R_2/3 \\\\\n",
        "    & \\begin{bmatrix}\n",
        "    1 & 2 & -1 & | & -2 \\\\\n",
        "    0 & 1 & -2 & | & -4 \\\\\n",
        "    0 & 2 & 1 & | & 0\n",
        "    \\end{bmatrix}\n",
        "\\end{aligned}$\n",
        "\n",
        "$\\;$\n",
        "\n",
        "Step 3: subtract 2 times the second row from the first row; subtract 2 times the second row from the third row.\n",
        "\n",
        "$\\begin{aligned}\n",
        "    & R_1 = R_1 - 2R_2 \\quad \\text{and} \\quad R_3 = R_3 - 2R_2 \\\\\n",
        "    & \\begin{bmatrix}\n",
        "    1 & 0 & 3 & | & 6 \\\\\n",
        "    0 & 1 & -2 & | & -4 \\\\\n",
        "    0 & 0 & 5 & | & 8\n",
        "    \\end{bmatrix}\n",
        "\\end{aligned}$\n",
        "\n",
        "$\\;$\n",
        "\n",
        "Step 4: divide the third row by 5 to make the pivot in the third row equal to 1.\n",
        "\n",
        "$\\begin{aligned}\n",
        "    & R_3 = R_3/5 \\\\\n",
        "    & \\begin{bmatrix}\n",
        "    1 & 0 & 3 & | & 6 \\\\\n",
        "    0 & 1 & -2 & | & -4 \\\\\n",
        "    0 & 0 & 1 & | & \\frac{8}{5}\n",
        "    \\end{bmatrix}\n",
        "\\end{aligned}$\n",
        "\n",
        "$\\;$\n",
        "\n",
        "Step 5: subtract 3 times the third row from the first row; add 2 times the third row from the second row.\n",
        "\n",
        "$\\begin{aligned}\n",
        "    & R_1 = R_1 - 3R_3 \\quad \\text{and} \\quad R_2 = R_2 + 2R_3 \\\\\n",
        "    & \\begin{bmatrix}\n",
        "    1 & 0 & 0 & | & -\\frac{6}{5} \\\\\n",
        "    0 & 1 & 0 & | & -\\frac{2}{5} \\\\\n",
        "    0 & 0 & 1 & | & \\frac{8}{5}\n",
        "    \\end{bmatrix}\n",
        "\\end{aligned}$\n",
        "\n",
        "$\\;$\n",
        "\n",
        "## Solutions\n",
        "After these row operations, the matrix is in its reduced row-echelon form (RREF), and the solutions can be read directly from the matrix. The solution to the system of equations are:\n",
        "\n",
        "$x_1 = -\\frac{6}{5}\\text{,}\\quad x_2 = -\\frac{2}{5}\\text{,}\\quad x_3 = \\frac{8}{5}$\n",
        "\n",
        "\n",
        "$\\;$\n",
        "$\\;$\n",
        "\n",
        "```\n",
        "# This LaTeX is formatted as code/math expressions. End\n",
        "```\n"
      ],
      "metadata": {
        "id": "vSp9_tgYlHdK"
      }
    },
    {
      "cell_type": "markdown",
      "source": [
        "# Problem Three: COMPUTE COMPOUND INTEREST\n",
        "\n",
        "```\n",
        "# Compound Interest in LateX Math;\n",
        "```\n",
        "Compound interest is computed using the formula:\n",
        "$\\;$\n",
        "\n",
        "$A = P (1 + \\frac{r}{n} )^{nt}$\n",
        "\n",
        "where:\n",
        "\n",
        "$A$ is the future value of the investment/loan, including interest.\n",
        "$\\;$\n",
        "\n",
        "$P$ is the principal amount (initial investment/loan amount). It is initialized to **deposit** at the start, in this problem set.\n",
        "$\\;$\n",
        "\n",
        "$r$ is the annual interest **rate** (in decimal form).\n",
        "$\\;$\n",
        "\n",
        "$n$ is the number of times that interest is compounded per unit time $t\\;$; $\\; n\\;$ is $1$ in this pset; $t$ is defined below.\n",
        "$\\;$\n",
        "\n",
        "$t$ is the time the money is invested/borrowed for in years.\n",
        "\n",
        "$\\;$\n",
        "\n",
        "The way to compute compound interest numerically it using Python would be this:"
      ],
      "metadata": {
        "id": "1u9olOjg0f-q"
      }
    },
    {
      "cell_type": "code",
      "source": [
        "deposit, rate, time_years = 100000, 0.12, 5"
      ],
      "metadata": {
        "id": "CBxHm6t7zdWp"
      },
      "execution_count": 4,
      "outputs": []
    },
    {
      "cell_type": "code",
      "source": [
        "amount = deposit * ((1 + rate) ** time_years ) # n = 1;"
      ],
      "metadata": {
        "id": "EIVpG3eGzw39"
      },
      "execution_count": 5,
      "outputs": []
    },
    {
      "cell_type": "code",
      "source": [
        "print(f'Amount after 5 years is: {amount:.2f}')"
      ],
      "metadata": {
        "colab": {
          "base_uri": "https://localhost:8080/"
        },
        "id": "ttjinkpI0LGD",
        "outputId": "40e5d307-b7d3-43b2-c139-fe45371a64aa"
      },
      "execution_count": 6,
      "outputs": [
        {
          "output_type": "stream",
          "name": "stdout",
          "text": [
            "Amount after 5 years is: 176234.17\n"
          ]
        }
      ]
    },
    {
      "cell_type": "markdown",
      "source": [
        "$\\;$\n",
        "\n",
        "# End - File Conversion [IGNORE]\n",
        "Please ignore the cells below; they're not part of the problem sets. It's file conversion from the discussions on stackoverflow on how to convert Jupyter Notebooks into PDF in the Google Collab VM."
      ],
      "metadata": {
        "id": "NRljSJBi0s_S"
      }
    },
    {
      "cell_type": "code",
      "source": [
        "# !pip install nbconvert\n",
        "# !apt-get install texlive texlive-xetex texlive-latex-extra pandoc\n",
        "# !pip install pypandoc"
      ],
      "metadata": {
        "id": "G3AeWJPueRs4"
      },
      "execution_count": 7,
      "outputs": []
    },
    {
      "cell_type": "code",
      "source": [
        "from google.colab import drive\n",
        "drive.mount('/content/drive')\n",
        "!cp \"./drive/My Drive/Colab Notebooks/scientific_compute.ipynb\" ./"
      ],
      "metadata": {
        "id": "qdcEPutxxTtN",
        "colab": {
          "base_uri": "https://localhost:8080/"
        },
        "outputId": "fc81a511-81e4-42b9-a708-bcb6a7a62495"
      },
      "execution_count": 8,
      "outputs": [
        {
          "output_type": "stream",
          "name": "stdout",
          "text": [
            "Drive already mounted at /content/drive; to attempt to forcibly remount, call drive.mount(\"/content/drive\", force_remount=True).\n"
          ]
        }
      ]
    },
    {
      "cell_type": "code",
      "source": [
        "!jupyter nbconvert 'scientific_compute.ipynb' --to pdf\n"
      ],
      "metadata": {
        "id": "7ok85TkMOe6F",
        "colab": {
          "base_uri": "https://localhost:8080/"
        },
        "outputId": "c05c2802-522b-425f-aa2b-44b5272ad60b"
      },
      "execution_count": 9,
      "outputs": [
        {
          "output_type": "stream",
          "name": "stdout",
          "text": [
            "[NbConvertApp] Converting notebook scientific_compute.ipynb to pdf\n",
            "[NbConvertApp] Writing 31564 bytes to notebook.tex\n",
            "[NbConvertApp] Building PDF\n",
            "[NbConvertApp] Running xelatex 3 times: ['xelatex', 'notebook.tex', '-quiet']\n",
            "[NbConvertApp] Running bibtex 1 time: ['bibtex', 'notebook']\n",
            "[NbConvertApp] WARNING | bibtex had problems, most likely because there were no citations\n",
            "[NbConvertApp] PDF successfully created\n",
            "[NbConvertApp] Writing 55614 bytes to scientific_compute.pdf\n"
          ]
        }
      ]
    },
    {
      "cell_type": "code",
      "source": [
        "!ls -a\n"
      ],
      "metadata": {
        "id": "Tm5XYOJlQaNL",
        "colab": {
          "base_uri": "https://localhost:8080/"
        },
        "outputId": "4e34eae6-0058-4930-cb9c-40ef4d836d4c"
      },
      "execution_count": 10,
      "outputs": [
        {
          "output_type": "stream",
          "name": "stdout",
          "text": [
            ".  ..  .config\tdrive  sample_data  scientific_compute.ipynb  scientific_compute.pdf\n"
          ]
        }
      ]
    },
    {
      "cell_type": "code",
      "source": [
        "from google.colab import files\n",
        "files.download('scientific_compute.pdf')"
      ],
      "metadata": {
        "id": "237uCyLrRx_G",
        "colab": {
          "base_uri": "https://localhost:8080/",
          "height": 17
        },
        "outputId": "3687dd82-cb76-4b59-ad1d-6307e89918bb"
      },
      "execution_count": 11,
      "outputs": [
        {
          "output_type": "display_data",
          "data": {
            "text/plain": [
              "<IPython.core.display.Javascript object>"
            ],
            "application/javascript": [
              "\n",
              "    async function download(id, filename, size) {\n",
              "      if (!google.colab.kernel.accessAllowed) {\n",
              "        return;\n",
              "      }\n",
              "      const div = document.createElement('div');\n",
              "      const label = document.createElement('label');\n",
              "      label.textContent = `Downloading \"${filename}\": `;\n",
              "      div.appendChild(label);\n",
              "      const progress = document.createElement('progress');\n",
              "      progress.max = size;\n",
              "      div.appendChild(progress);\n",
              "      document.body.appendChild(div);\n",
              "\n",
              "      const buffers = [];\n",
              "      let downloaded = 0;\n",
              "\n",
              "      const channel = await google.colab.kernel.comms.open(id);\n",
              "      // Send a message to notify the kernel that we're ready.\n",
              "      channel.send({})\n",
              "\n",
              "      for await (const message of channel.messages) {\n",
              "        // Send a message to notify the kernel that we're ready.\n",
              "        channel.send({})\n",
              "        if (message.buffers) {\n",
              "          for (const buffer of message.buffers) {\n",
              "            buffers.push(buffer);\n",
              "            downloaded += buffer.byteLength;\n",
              "            progress.value = downloaded;\n",
              "          }\n",
              "        }\n",
              "      }\n",
              "      const blob = new Blob(buffers, {type: 'application/binary'});\n",
              "      const a = document.createElement('a');\n",
              "      a.href = window.URL.createObjectURL(blob);\n",
              "      a.download = filename;\n",
              "      div.appendChild(a);\n",
              "      a.click();\n",
              "      div.remove();\n",
              "    }\n",
              "  "
            ]
          },
          "metadata": {}
        },
        {
          "output_type": "display_data",
          "data": {
            "text/plain": [
              "<IPython.core.display.Javascript object>"
            ],
            "application/javascript": [
              "download(\"download_92a17d0e-1759-41a3-9e7d-ccacb7340a27\", \"scientific_compute.pdf\", 55614)"
            ]
          },
          "metadata": {}
        }
      ]
    }
  ]
}