{
  "nbformat": 4,
  "nbformat_minor": 0,
  "metadata": {
    "colab": {
      "provenance": [],
      "toc_visible": true
    },
    "kernelspec": {
      "name": "python3",
      "display_name": "Python 3"
    },
    "language_info": {
      "name": "python"
    }
  },
  "cells": [
    {
      "cell_type": "markdown",
      "source": [
        "```\n",
        "SCT211-0848/2018 - Jany Muong\n",
        "ICS 2207: Scientific Computing - Dr. L. Nderu\n",
        "Computer Science 2.2\n",
        "```"
      ],
      "metadata": {
        "id": "bkkuR71z5-Hy"
      }
    },
    {
      "cell_type": "markdown",
      "source": [
        "\n",
        "$\\;$\n",
        "\n",
        "```\n",
        "# This is in LaTeX math formatted as code/expressions\n",
        "```\n",
        "# Problem One: COMPUTE VOLUME OF SPHERES\n",
        "The formula for the surface area, $A$ of a sphere is given by:\n",
        "\n",
        "$A = 4\\pi r^2$, $\\;$ where $PI = 3.14159$ for an estimate of the mathematical constant $\\pi$ , and $r$ is the radius of the sphere.\n",
        "\n",
        "The volume, $V$ of a sphere, can be computed from a modified formula of the area:\n",
        "\n",
        "$V = \\frac{4}{3}\\pi r^3$\n",
        "\n",
        "For example to calculate volume of a sphere of **radius** 7. This is the expression that is evaluated:  \n",
        "$V = \\frac{4}{3} \\; \\times \\; 3.14159 \\; \\times \\; 7 ^ 3 = 1436.75$\n",
        "\n",
        "The Python code below is a way of computing the volume of a sphere:"
      ],
      "metadata": {
        "id": "p_gPU-oohg6T"
      }
    },
    {
      "cell_type": "code",
      "source": [
        "PI = 3.14159\n",
        "# get input from keyboard\n",
        "radius_of_sphere = float(input('Type in the radius: '))"
      ],
      "metadata": {
        "colab": {
          "base_uri": "https://localhost:8080/"
        },
        "id": "QBo_vvP_gnMY",
        "outputId": "0e43b278-9331-4522-8585-d6d35cd5a782"
      },
      "execution_count": 1,
      "outputs": [
        {
          "name": "stdout",
          "output_type": "stream",
          "text": [
            "Type in the radius: 7\n"
          ]
        }
      ]
    },
    {
      "cell_type": "code",
      "source": [
        "volume_of_sphere = 4/3 * PI * (radius_of_sphere ** 3)"
      ],
      "metadata": {
        "id": "O5RvbjydiJ3k"
      },
      "execution_count": 2,
      "outputs": []
    },
    {
      "cell_type": "code",
      "source": [
        "print(f'Sphere volume: {volume_of_sphere:.2f}')"
      ],
      "metadata": {
        "colab": {
          "base_uri": "https://localhost:8080/"
        },
        "id": "4rWd0_5egsfs",
        "outputId": "3cd1e46b-86ac-45e5-d994-f214295dcf9f"
      },
      "execution_count": 3,
      "outputs": [
        {
          "output_type": "stream",
          "name": "stdout",
          "text": [
            "Sphere volume: 1436.75\n"
          ]
        }
      ]
    },
    {
      "cell_type": "markdown",
      "source": [
        "\n",
        "$\\;$\n",
        "$\\;$\n",
        "$\\;$\n",
        "$\\;$\n",
        "$\\;$\n",
        "\n",
        "```\n",
        "# Systems of Linear Equations in LaTeX Math; this is a typesetting for math syntax;\n",
        "```\n",
        "# Problem Two: SOLVING SYSTEMS OF LINEAR EQUATIONS\n",
        "## Using The Gauss-Jordan Algorithm:\n",
        "Although less efficient than **Gaussian** elimination, the **Gauss-Jordan** algorithm provides the solution to a system of linear equations without the need for back-substitution. Each step involves elementary row operations to simplify the matrix until it reaches a form where the solutions can be directly read off. This is our system to solve:\n",
        "\n",
        "$\\; \\; \\; x_1 \\; +  \\; 2x_2 -x_3 \\; = -2$\n",
        "\n",
        "$2x_1 \\; +  \\; 7x_2 -8x_3 \\; = - 16$\n",
        "\n",
        "$\\; \\; \\; \\; \\; \\; \\; \\; \\; \\; -2x_2 + 2x_3 \\; = 2$  \n",
        "\n",
        "$\\;$  \n",
        "We start with the **augmented matrix**:  \n",
        "For context, you create an augmented matrix like this - by combining the coefficient matrix equations with the constant matrix to form an augmented matrix.\n",
        "\n",
        "$M$ =\n",
        "  $\\begin{bmatrix}\n",
        "   a_{11} & a_{12} & a_{13} & \\dots & a_{1n} & | & b_1 \\\\\n",
        "   a_{21} & a_{22} & a_{23} & \\dots & a_{2n} & | & b_2 \\\\\n",
        "   \\vdots & \\vdots & \\vdots & \\ddots & \\vdots & | & \\vdots \\\\\n",
        "   a_{m1} & a_{m2} & a_{m3} & \\dots & a_{mn} & | & b_m \\\\\n",
        "   \\end{bmatrix}$\n",
        "\n",
        "$\\;$\n",
        "\n",
        "This is our augmented matrix;\n",
        "$M$ =\n",
        "$\\begin{bmatrix}\n",
        "1 & 2 & -1 & | & -2 \\\\\n",
        "2 & 7 & -8 & | & -16 \\\\\n",
        "0 & -2 & 2 & | & 2\n",
        "\\end{bmatrix}$\n",
        "\n",
        "$\\;$\n",
        "\n",
        "### Rows Info: Normalize\n",
        "We normalize the pivot row in the context of Gaussian elimination or Gauss-Jordan elimination by dividing all the elements in the pivot row by the value of the pivot element itself. This operation ensures that the pivot element becomes 1, simplifying subsequent row operations and maintaining the equivalence of the system of equations. By normalizing the pivot row, subsequent elimination steps are easier to perform, leading to a more efficient solution process. Additionally, normalizing the pivot row helps avoid numerical errors that may arise from working with large coefficients.\n",
        "\n",
        "$\\;$\n",
        "\n",
        "Numerical Python solution below:"
      ],
      "metadata": {
        "id": "vSp9_tgYlHdK"
      }
    },
    {
      "cell_type": "code",
      "source": [
        "# we get the augmented matrix from our system:\n",
        "M = [[1, 2, -1, -2],\n",
        "     [2, 7, -8, -16],\n",
        "     [0, -2, 2, 2]]\n",
        "\n",
        "rows = len(M)\n",
        "cols = len(M[0])"
      ],
      "metadata": {
        "id": "VjUfiAzmSXFt"
      },
      "execution_count": 4,
      "outputs": []
    },
    {
      "cell_type": "code",
      "source": [
        "# compuete using Gauss-Jordan elimination algorithm\n",
        "for r in range(rows):\n",
        "    # normalize the pivot row\n",
        "    pivot = M[r][r]\n",
        "    for j in range(cols):\n",
        "        M[r][j] /= pivot\n",
        "\n",
        "    # eliminate other rows\n",
        "    for i in range(rows):\n",
        "        if i != r:\n",
        "            factor = M[i][r]\n",
        "            for j in range(cols):\n",
        "                M[i][j] -= factor * M[r][j]"
      ],
      "metadata": {
        "id": "d760uaexSg_B"
      },
      "execution_count": 5,
      "outputs": []
    },
    {
      "cell_type": "code",
      "source": [
        "# M is in its reduced row-echelon form(RREF),\n",
        "# and we can read off directly the gauss-jordan solutions\n",
        "gauss_jordan = [row[-1] for row in M]\n",
        "\n",
        "print('Solutions:')\n",
        "print('x1 =', int(gauss_jordan[0]), end=', ')\n",
        "print('x2 =', int(gauss_jordan[1]), end=', ')\n",
        "print('x3 =', int(gauss_jordan[2]))"
      ],
      "metadata": {
        "colab": {
          "base_uri": "https://localhost:8080/"
        },
        "id": "sGQjyZhkSoQ-",
        "outputId": "327d216c-deab-4013-c1f3-819b370e1078"
      },
      "execution_count": 6,
      "outputs": [
        {
          "output_type": "stream",
          "name": "stdout",
          "text": [
            "Solutions:\n",
            "x1 = -3, x2 = 2, x3 = 3\n"
          ]
        }
      ]
    },
    {
      "cell_type": "markdown",
      "source": [
        "## Solutions\n",
        "After these row operations, the matrix is in its reduced row-echelon form (RREF), and the solutions can be read directly from the matrix. The solution to the system of equations are:\n",
        "\n",
        "$x_1 = -3\\text{,}\\quad x_2 = 2\\text{,}\\quad x_3 = 3$\n",
        "\n",
        "\n",
        "$\\;$\n",
        "$\\;$\n",
        "\n",
        "```\n",
        "# This LaTeX is formatted as code/math expressions. End\n",
        "```"
      ],
      "metadata": {
        "id": "yrobaMwiS0Tr"
      }
    },
    {
      "cell_type": "markdown",
      "source": [
        "# Problem Three: COMPUTE COMPOUND INTEREST\n",
        "\n",
        "```\n",
        "# Compound Interest in LateX Math;\n",
        "```\n",
        "Compound interest is computed using the formula:\n",
        "$\\;$\n",
        "\n",
        "$A = P (1 + \\frac{r}{n} )^{nt}$\n",
        "\n",
        "where:\n",
        "\n",
        "$A$ is the future value of the investment/loan, including interest.\n",
        "$\\;$\n",
        "\n",
        "$P$ is the principal amount (initial investment/loan amount). It is initialized to **deposit** at the start, in this problem set.\n",
        "$\\;$\n",
        "\n",
        "$r$ is the annual interest **rate** (in decimal form).\n",
        "$\\;$\n",
        "\n",
        "$n$ is the number of times that interest is compounded per unit time $t\\;$; $\\; n\\;$ is $1$ in this pset; $t$ is defined below.\n",
        "$\\;$\n",
        "\n",
        "$t$ is the time the money is invested/borrowed for in years.\n",
        "\n",
        "$\\;$\n",
        "\n",
        "The way to compute compound interest numerically it using Python would be this:"
      ],
      "metadata": {
        "id": "1u9olOjg0f-q"
      }
    },
    {
      "cell_type": "code",
      "source": [
        "deposit, rate, time_years = 100000, 0.12, 5"
      ],
      "metadata": {
        "id": "CBxHm6t7zdWp"
      },
      "execution_count": 7,
      "outputs": []
    },
    {
      "cell_type": "code",
      "source": [
        "amount = deposit * ((1 + rate) ** time_years ) # n = 1;"
      ],
      "metadata": {
        "id": "EIVpG3eGzw39"
      },
      "execution_count": 8,
      "outputs": []
    },
    {
      "cell_type": "code",
      "source": [
        "print(f'Amount after 5 years is: {amount:.2f}')"
      ],
      "metadata": {
        "colab": {
          "base_uri": "https://localhost:8080/"
        },
        "id": "ttjinkpI0LGD",
        "outputId": "e5d3256a-7a2b-4b0d-d84b-315687d4a8c2"
      },
      "execution_count": 9,
      "outputs": [
        {
          "output_type": "stream",
          "name": "stdout",
          "text": [
            "Amount after 5 years is: 176234.17\n"
          ]
        }
      ]
    },
    {
      "cell_type": "markdown",
      "source": [
        "$\\;$\n",
        "\n",
        "# End - File Conversion [IGNORE]\n",
        "Please ignore the cells below; they're not part of the problem sets. It's file conversion from the discussions on stackoverflow on how to convert Jupyter Notebooks into PDF in the Google Collab VM."
      ],
      "metadata": {
        "id": "NRljSJBi0s_S"
      }
    },
    {
      "cell_type": "code",
      "source": [
        "!pip install nbconvert\n",
        "!apt-get install texlive texlive-xetex texlive-latex-extra pandoc\n",
        "!pip install pypandoc"
      ],
      "metadata": {
        "id": "G3AeWJPueRs4"
      },
      "execution_count": null,
      "outputs": []
    },
    {
      "cell_type": "code",
      "source": [
        "from google.colab import drive\n",
        "drive.mount('/content/drive')\n",
        "!cp \"./drive/My Drive/Colab Notebooks/scientific_compute.ipynb\" ./"
      ],
      "metadata": {
        "id": "qdcEPutxxTtN"
      },
      "execution_count": null,
      "outputs": []
    },
    {
      "cell_type": "code",
      "source": [
        "!jupyter nbconvert 'scientific_compute.ipynb' --to pdf\n"
      ],
      "metadata": {
        "id": "7ok85TkMOe6F"
      },
      "execution_count": null,
      "outputs": []
    },
    {
      "cell_type": "code",
      "source": [
        "!ls -a\n"
      ],
      "metadata": {
        "id": "Tm5XYOJlQaNL"
      },
      "execution_count": null,
      "outputs": []
    },
    {
      "cell_type": "code",
      "source": [
        "from google.colab import files\n",
        "files.download('scientific_compute.pdf')"
      ],
      "metadata": {
        "id": "237uCyLrRx_G"
      },
      "execution_count": null,
      "outputs": []
    }
  ]
}