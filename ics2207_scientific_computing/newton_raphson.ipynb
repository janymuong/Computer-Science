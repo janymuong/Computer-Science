{
 "cells": [
  {
   "cell_type": "markdown",
   "metadata": {
    "id": "yvvLmrQ9mYQJ"
   },
   "source": [
    "SCT211-0848/2018  \n",
    "Jany Muong  \n",
    "\n",
    "ICS 2207: Scientific Computing"
   ]
  },
  {
   "cell_type": "markdown",
   "metadata": {
    "id": "mF7CFuvVmw2p"
   },
   "source": [
    "# Finding Root(s) of An Equation - The Newton-Raphson Algorithm\n",
    "\n",
    "## Info:\n",
    "For context, this (file) is a solution of the problem set utilizing the **Newton-Raphson** method/approach to numerically solve for the roots of a given set of equations. The solution entails applying an iterative method effectively, and to analyze convergence criteria, and interpret the results in the context of scientific computing."
   ]
  },
  {
   "cell_type": "markdown",
   "metadata": {
    "id": "Q5R8_tMmxGvc"
   },
   "source": [
    "## Introduction\n",
    "The **Newton-Raphson** method is a powerful iterative numerical technique used to find the roots of *real-valued* functions. It offers rapid convergence to the root provided certain conditions are met, making it invaluable in scientific computing. For example it is typically used to solve equations of the form:\n",
    "$f(x)=0$, where $f(x)$ is a function. It uses the idea that a continuous and differentiable function can be approximated by a straight line tangent to it."
   ]
  },
  {
   "cell_type": "markdown",
   "metadata": {
    "id": "ko8LGNbIxNcr"
   },
   "source": [
    "\n",
    "\n",
    "\n",
    "## Theory\n",
    "The Newton-Raphson method involves iteratively refining an **initial guess**, $x_n$ using the formula:  \n",
    "$x_{n+1} = x_n - \\frac{f(x_n)}{f'(x_n)}$  \n",
    "\n",
    "where $f(x)$ is the function representing the equation and $f'(x_n)$ is its derivative evaluated at $x_n$. The method exhibits quadratic convergence under favorable conditions but may fail if the derivative approaches zero or if the initial guess is far from the root. Strategies for improving convergence include selecting appropriate initial guesses and employing hybrid methods.\n",
    "\n",
    "\n",
    "Suppose you need to find the root of a continuous, differentiable function:\n"
   ]
  },
  {
   "cell_type": "markdown",
   "metadata": {
    "id": "aJnzNoad1g4e"
   },
   "source": [
    "##### How It Works:  "
   ]
  },
  {
   "cell_type": "code",
   "execution_count": 1,
   "metadata": {},
   "outputs": [
    {
     "data": {
      "image/png": "[encoded data removed]",
      "text/plain": [
       "<IPython.core.display.Image object>"
      ]
     },
     "execution_count": 1,
     "metadata": {},
     "output_type": "execute_result"
    }
   ],
   "source": [
    "from IPython.display import Image\n",
    "image_path = './brilliant-newtons-method.png'\n",
    "Image(filename=image_path)"
   ]
  },
  {
   "cell_type": "markdown",
   "metadata": {
    "id": "iqVbdLCp2-et"
   },
   "source": [
    "In theory we could consider a garph and draw a tangent line to the graph of\n",
    "$f(x)$ at the point\n",
    "$x=x_n$. This line has slope\n",
    "$f'(x_n)$ and goes through the point $(x_n,f(x_n))$. And it has the equation:  \n",
    "$y=f'(x_n)(x-x_n)+f(x_n)$.  \n",
    "\n",
    "\n",
    "$\\;$\n",
    "\n",
    "The root of this tangent line can be found by setting\n",
    "$y=0$ and $x=x_{n+1}$ for our new approximation. Solving this equation gives us our new approximation, which is:  \n",
    "$x_{n+1} = x_n - \\frac{f(x_n)}{f'(x_n)}$.\n",
    "\n",
    "For demo purposes we can plug in values for example: $x_0,\\;x_1,\\;x_2,\\;x_3$ etc to understand the iterations.\n",
    "\n",
    "\n",
    "### Convergence Criteria\n",
    "\n",
    "The convergence can be defined this way:\n",
    "\n",
    "1. **Absolute Error Criterion:** Terminate the iteration when the absolute difference between successive approximations falls below a specified tolerance $\\epsilon$:  \n",
    "$|x_{n+1} - x_n| < \\epsilon$\n",
    "\n",
    "2. **Maximum Iterations Criterion:** Terminate the iteration after a specified maximum number of iterations to prevent infinite loops.\n",
    "\n",
    "These criteria ensure that the iterative process terminates either when the desired level of accuracy is achieved or when the maximum number of iterations is reached. At this point we can read off the $root(s)$ at that iteration.\n",
    "\n",
    "### Limitations\n",
    "The method exhibits quadratic convergence under favorable conditions but may fail if the derivative approaches zero or if the initial guess is far from the root. Strategies for improving convergence include selecting appropriate initial guesses and employing hybrid methods.\n",
    "\n",
    "#### Specifics - Under Points of Inflection, Local Maxima, or Minima:  \n",
    "\n",
    "If the function has points of inflection, local maxima, or minima near the initial guess or the root, Newton's method may fail to converge or converge to incorrect roots.\n",
    "\n",
    "   *Example:* Consider the function $27x^3 - 3x + 1 = 0$, where the root near $x = 0$. Newton-Raphson's method yields divergent approximations due to the presence of a local maximum, a local minimum, and a point of inflection around $x = 0$, leading to unreliable convergence behavior.\n",
    "\n",
    "   The presence of a **local maximum**, a **local minimum**, and a **point of inflection** around $x = 0$ makes it difficult for the method to converge reliably. For more context in this case example,tangent lines drawn at random points between $x = -0.19$ and $x = 0.19$ intersect the y-axis farther from the root, indicating the challenge in finding a suitable tangent for convergence.\n",
    "\n",
    "These limitations highlight the sensitivity of the method to the local behavior of the function, emphasizing the importance of careful consideration of the function's properties when applying the method."
   ]
  },
  {
   "cell_type": "markdown",
   "metadata": {
    "id": "cJ9ZPwoQs0nW"
   },
   "source": [
    "## Python Implementation\n",
    "This is the Python solution of it."
   ]
  },
  {
   "cell_type": "code",
   "execution_count": 2,
   "metadata": {
    "colab": {
     "base_uri": "https://localhost:8080/"
    },
    "id": "PEPXOPjtmSrt",
    "outputId": "4d3eca24-c0f8-432d-e95b-31c261e0d763"
   },
   "outputs": [
    {
     "name": "stdout",
     "output_type": "stream",
     "text": [
      "Root of the equation is: 2.0945514815423265\n",
      "Iterations: 4\n"
     ]
    }
   ],
   "source": [
    "#!/usr/bin/env python3\n",
    "'''module: newton_raphson\n",
    "This (file) is a solution of the problem set utilizing the Newton-Raphson\n",
    "          to numerically solve for the roots of a given set of equations.\n",
    "'''\n",
    "\n",
    "import numpy as np\n",
    "import matplotlib.pyplot as plt\n",
    "\n",
    "\n",
    "def newton_raphson(f, f_prime, x0, tol=1e-6, max_iter=100):\n",
    "    '''\n",
    "    Newton-Raphson method implementation to find root of f(x).\n",
    "\n",
    "    parameters:\n",
    "        f: Function representing the equation.\n",
    "        f_prime: Function representing the derivative of f.\n",
    "        x0: Initial guess.\n",
    "        tol: Tolerance for convergence (default: 1e-6).\n",
    "        max_iter: Maximum number of iterations (default: 100).\n",
    "\n",
    "    returns:\n",
    "        root: approximation of the root.\n",
    "        iterations: Number of iterations taken.\n",
    "        convergence_curve: List of values showing convergence behavior.\n",
    "    '''\n",
    "\n",
    "    # initialize iteration count and list for convergence curve\n",
    "    iterations = 0\n",
    "    convergence_curve = []\n",
    "\n",
    "    # iterate until convergence or maximum iterations reached\n",
    "    while True:\n",
    "        # calculate the next approximation using Newton-Raphson method\n",
    "        x1 = x0 - f(x0) / f_prime(x0)\n",
    "        convergence_curve.append(x1)\n",
    "        iterations += 1\n",
    "\n",
    "        # check convergence criteria\n",
    "        if abs(x1 - x0) < tol or iterations >= max_iter:\n",
    "            break\n",
    "\n",
    "        # update the current approximation for the next iteration\n",
    "        x0 = x1\n",
    "\n",
    "    return x1, iterations, convergence_curve\n",
    "\n",
    "# helper functions to pass into newton-raphson algorithm\n",
    "def f(x):\n",
    "    '''function representing the equation: f(x) = x^3 - 2x - 5'''\n",
    "    return x**3 - 2*x - 5\n",
    "\n",
    "def f_prime(x):\n",
    "    '''derivative of the function f(x): f'(x) = 3x^2 - 2'''\n",
    "    return 3*x**2 - 2\n",
    "\n",
    "# Newton-Raphson method to find the root of the equation;\n",
    "root, iterations, convergence_curve = newton_raphson(f, f_prime, x0=2)\n",
    "print(f'Root of the equation is: {root}')\n",
    "print(f'Iterations: {iterations}')"
   ]
  },
  {
   "cell_type": "markdown",
   "metadata": {
    "id": "9xAouE37JIOo"
   },
   "source": [
    "## Results and Analysis:"
   ]
  },
  {
   "cell_type": "code",
   "execution_count": 3,
   "metadata": {
    "colab": {
     "base_uri": "https://localhost:8080/",
     "height": 472
    },
    "id": "rSVOSHYbJDrH",
    "outputId": "44cb24b9-92ad-4a50-b829-9ba04e9dc0df"
   },
   "outputs": [
    {
     "data": {
      "image/png": "[encoded data removed]",
      "text/plain": [
       "<Figure size 640x480 with 1 Axes>"
      ]
     },
     "metadata": {},
     "output_type": "display_data"
    }
   ],
   "source": [
    "# plot convergence curve - matplotlib\n",
    "plt.plot(np.arange(1, iterations + 1), convergence_curve, marker='o')\n",
    "plt.xlabel('Iteration')\n",
    "plt.ylabel('Approximation')\n",
    "plt.title('A plot of Approximation against Iteration to Determine Convergence Behavior')\n",
    "plt.grid(True)\n",
    "plt.show()"
   ]
  },
  {
   "cell_type": "markdown",
   "metadata": {
    "id": "ckveF6gTFXBc"
   },
   "source": [
    "The Newton-Raphson method was applied to solve the equation $f(x) = x^3 - 2x - 5 = 0$; starting from an initial guess of $x_0 = 2$. The method converged to a root after $5$ iterations, demonstrating rapid convergence.\n",
    "\n",
    "The convergence behavior is illustrated in the convergence plot above using Matplotlib. The x-axis represents the iteration number, while the y-axis represents the approximation of the root obtained at each iteration. As observed, the approximations converge quickly to the true root of the equation which is:  \n",
    "$2.0945514815423265$\n",
    "\n",
    "\n",
    "The efficiency of the Newton-Raphson method is evident from the small number of iterations required to achieve convergence. This efficiency makes it a valuable tool for solving equations numerically in various fields of science and engineering."
   ]
  },
  {
   "cell_type": "markdown",
   "metadata": {
    "id": "_-ehdcfTFfIG"
   },
   "source": [
    "## Conclusion:\n",
    "\n",
    "In conclusion, the **Newton-Raphson** method provides an effective and efficient technique for finding roots of equations. By iteratively refining initial guesses based on the tangent line to the function, the method converges rapidly to accurate solutions. However, it is essential to consider the limitations of the method, such as its sensitivity to the choice of initial guess and the presence of points of inflection, local maxima, or minima near the root.\n",
    "\n",
    "Despite these limitations, the Newton-Raphson method remains widely used in scientific computing and engineering due to its speed and reliability. Its applicability extends to various fields, including optimization, numerical analysis, and computational physics. Overall, the Newton-Raphson method is a valuable tool for solving nonlinear equations and plays a crucial role in modern numerical techniques."
   ]
  },
  {
   "cell_type": "markdown",
   "metadata": {
    "id": "hWa76wOfCdsj"
   },
   "source": [
    "## References;\n",
    "This segment lists out all the resources used to prepare this project.  \n",
    "\n",
    "1. [Exam Solutions - Newton-Raphson Method for Locating a Root in a Given Interval](https://www.examsolutions.net/tutorials/newton-raphson-method-for-locating-a-root-in-a-given-interval/)\n",
    "\n",
    "2. [Brilliant.org - Newton-Raphson Method](https://brilliant.org/wiki/newton-raphson-method/)\n",
    "\n",
    "3. [GeeksforGeeks - Newton-Raphson Method](https://www.geeksforgeeks.org/newton-raphson-method/)\n",
    "\n",
    "4. [ScienceDirect - Newton-Raphson Method](https://www.sciencedirect.com/topics/mathematics/newton-raphson-method#:~:text=The%20Newton%2DRaphson%20method%20begins,0%20crosses%20the%20x%2Daxis).\n",
    "5. Chapra S. C., and Canale R. P. \"Numerical Methods for Engineers.\" McGraw-Hill Education, 2019."
   ]
  },
  {
   "cell_type": "markdown",
   "metadata": {
    "id": "Htgj9lVADcGY"
   },
   "source": [
    "## End - File\n",
    "\n"
   ]
  }
 ],
 "metadata": {
  "colab": {
   "provenance": []
  },
  "kernelspec": {
   "display_name": "Python 3 (ipykernel)",
   "language": "python",
   "name": "python3"
  },
  "language_info": {
   "codemirror_mode": {
    "name": "ipython",
    "version": 3
   },
   "file_extension": ".py",
   "mimetype": "text/x-python",
   "name": "python",
   "nbconvert_exporter": "python",
   "pygments_lexer": "ipython3",
   "version": "3.11.5"
  }
 },
 "nbformat": 4,
 "nbformat_minor": 4
}
