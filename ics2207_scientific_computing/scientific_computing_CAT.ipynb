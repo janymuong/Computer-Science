{
 "cells": [
  {
   "cell_type": "markdown",
   "id": "af93a7df-a00e-4ad2-8ce9-45c18e94942d",
   "metadata": {},
   "source": [
    "SCT211-0848/2018  \r\n",
    "Jany Muong"
   ]
  },
  {
   "cell_type": "markdown",
   "id": "ff9a2515-dc63-4ce2-b18e-7b0f6eaf5fd6",
   "metadata": {},
   "source": [
    "# ICS 2207 SCIENTIFIC COMPUTING  \n",
    "**CAT** - Due Date: `12th April 2024`  "
   ]
  },
  {
   "cell_type": "markdown",
   "id": "7bfca21d-4026-4d61-bfe3-373f86461c54",
   "metadata": {},
   "source": [
    "## a) Advantages of NumPy Arrays, and Vectorization for Numpy Efficiency:  \n",
    "\n",
    "NumPy arrays is a beter approach than Python lists for numerical computations - I have listed out below how it is better in the context of numerical computations:  \n",
    "- **Better Performance:** as a part of their implementation, **NumPy** **arrays** are stored in **contiguous blocks of computer memory**, allowing for efficient vectorized operations. The basic difference is this - while Python lists are generic containers of objects, NumPy arrays are \n",
    "homogenous and typed arrays of fixed size. This means (batch and aggregate) operations are performed on entire arrays simultaneously, significantly faster than sequential element-by-element computations in lists.  \n",
    "- **Computational Efficiency - from use of Appropriate Data types:** NumPy supports various data types specifically designed for numerical data (e.g., integers, floats, **complex numbers**). This ensures efficient storage and calculations compared to storing **mixed data types** in lists.  \n",
    "- **Mathematical operations - Convenience:** **NumPy** offers a rich set of **built-in functions** for mathematical operations (e.g., addition, multiplication, element-wise operations) that work directly on arrays, eliminating the need for custom loops which is the casee in regular Python lists. Also, NumPy provides a wide range of other built-in functions and operations specifically designed for numerical computations, such as element-wise arithmetic, linear algebra operations, and statistical functions. These functionalities simplify and streamline code development for scientific computing tasks making it convenient.\n",
    "- **Memory Efficiency**: NumPy arrays consume less memory compared to Python lists, especially when dealing with large datasets, and, again, this is also due the contiguous memory allocation in Numpy arrays. This efficiency is achieved through optimized storage of homogeneous data types and the elimination of Python object overhead for each element in the array in place of  need for many explicit loops.  \n",
    "\n",
    "\n",
    "### What **Vectorization** Is, and Its **Efficiency in NumPy**:\n",
    "\n",
    "Vectorization in NumPy refers to the process of applying batch operations on arrays (performing operations on entire arrays at once), rather than iterating through individual elements using loops. This leverages optimized, low-level implementations in NumPy's underlying libraries to execute computations efficiently. By vectorizing operations, NumPy minimizes the overhead associated with Python ( being an interpreted language) and this enhances the speed and performance of numerical computations."
   ]
  },
  {
   "cell_type": "markdown",
   "id": "67e78c9f-0c16-4f8f-a8d8-11f77456c007",
   "metadata": {},
   "source": [
    "## b) Python Function - `Dot Product`, with `Error Handling`:  \n",
    "\n",
    "This function takes two lists as input, converts them to NumPy arrays, checks for mismatched lengths (raising a `ValueError`), and then performs the dot product using `np.dot` for efficient vectorized calculation."
   ]
  },
  {
   "cell_type": "code",
   "execution_count": 1,
   "id": "109c7563-9439-422f-81d5-2ca98d3224ba",
   "metadata": {},
   "outputs": [],
   "source": [
    "import numpy as np\n",
    "'''Module:\n",
    "Is a Python function using NumPy to calculate the dot product of two vectors. \n",
    "The function accepts two lists of numbers as input, convert them into NumPy \n",
    "arrays, and return the dot product. Include error handling for cases with mismatched \n",
    "input list lengths.\n",
    "'''\n",
    "\n",
    "def dot_product_np(list_a, list_b):\n",
    "    '''\n",
    "    np.dot(A, B) compute the dot product of two vectors represented as lists.\n",
    "    \n",
    "    args:\n",
    "      list_a: The first list of numbers.\n",
    "      list_b: The second list of numbers.\n",
    "    \n",
    "    returns:\n",
    "      dot product of the two vectors.\n",
    "    \n",
    "    raises:\n",
    "      ValueError: If the input lists have different lengths.\n",
    "    '''\n",
    "    try:\n",
    "        # convert Python inout lists to NumPy arrays\n",
    "        np_array_a = np.array(list_a)\n",
    "        np_array_b = np.array(list_b)\n",
    "\n",
    "        # error handling and validation - this a check for matching lengths\n",
    "        if np_array_a.shape != np_array_b.shape:\n",
    "            raise ValueError('Input lists must have the same lengths for dot product.')\n",
    "\n",
    "        # compute dot product - vectorization\n",
    "        return np.dot(np_array_a, np_array_b)\n",
    "    except Exception as e:\n",
    "        return str(e)\n",
    "    # finally:\n",
    "    #     return f'And this is how you use Numpy to compute Dot Product :)'"
   ]
  },
  {
   "cell_type": "markdown",
   "id": "c6d0e9c0-b598-4b3b-b39a-ef71dc0588b4",
   "metadata": {},
   "source": [
    "### Usage - Ascertaining It Works As Expected:  \n",
    "We're passing in *Python lists* as **input**.  \n",
    "This is a test to see the function computation as correct, and the error handling in action. We'll use 1-D arrays:"
   ]
  },
  {
   "cell_type": "code",
   "execution_count": 2,
   "id": "710e4e2a-b9cf-4ff2-a6c1-e5f767165ad0",
   "metadata": {},
   "outputs": [
    {
     "name": "stdout",
     "output_type": "stream",
     "text": [
      "The Dot Product of the two arrays from lists is: 97\n"
     ]
    }
   ],
   "source": [
    "# matching lengths - good shape;\n",
    "list_a = [7, 3, 9]\n",
    "list_b = [4, 5, 6]\n",
    "print(f'The Dot Product of the two arrays from lists is: ', end='')\n",
    "print(dot_product_np(list_a, list_b))"
   ]
  },
  {
   "cell_type": "code",
   "execution_count": 3,
   "id": "d0611ee0-231e-46d3-9281-2c98d0bd30f8",
   "metadata": {},
   "outputs": [
    {
     "data": {
      "text/plain": [
       "'Input lists must have the same lengths for dot product.'"
      ]
     },
     "execution_count": 3,
     "metadata": {},
     "output_type": "execute_result"
    }
   ],
   "source": [
    "# mismach - this should raise error;\n",
    "list_a = [1, 2, 3, 8]\n",
    "list_b = [4, 5, 6]\n",
    "dot_product_np(list_a, list_b)"
   ]
  },
  {
   "cell_type": "markdown",
   "id": "7d79d5de-2977-4cba-a4ca-29d6b2872cb6",
   "metadata": {},
   "source": [
    "## c) Use and Importance of Pandas in Data Analysis\n",
    "\n",
    "Let's use data structures to explain how pandas work: well, the key data structures are:\n",
    "\n",
    "- **Series:** One-dimensional labeled arrays capable of holding various data types. They're essentially one-dimensional arrays holding data of any type(1-D array - vector - items plus index).\n",
    "\n",
    "- **DataFrame:** Two-dimensional, size-mutable, tabular data structure with labeled rows (index) and columns. In other words: it can be thought of as a 2-dimensional data structure like a 2-dimensional array, or a table with rows and columns.  DataFrames offer efficient storage, handling of missing data, and powerful indexing capabilities.  \n",
    "\n",
    "DataFrames as Pandas data structures are used in managing and analyzing large datasets - as explained below:\n",
    "\n",
    "- **Data manipulation:** Pandas provides intuitive methods for filtering, sorting, grouping, and aggregating data based on specific criteria. (e.g., selecting rows based on conditions, calculating group statistics). Examples: *filtering* rows based on conditions (`df[df['column'] > value]`), *grouping* data for aggregation (`df.groupby('column').agg('mean')`), *merging/joining* multiple DataFrames (`pd.merge(df1, df2, on='key_column')`), and *reshaping data* (`pivot_table`, `melt`, `stack`, `unstack`).\n",
    "\n",
    "- **More on Merging and joining:** DataFrames can be merged or joined based on shared keys, allowing for combining data from different sources.\n",
    "- **Missing data handling:** Pandas offers tools for identifying and handling missing data (e.g., imputing missing values, dropping rows/columns with missing values).\n",
    "\n",
    "- **Importance in Large Datasets**: Also, Pandas an ability to load data incrementally, perform operations in-memory, and optimize memory usage through data types and indexing.  \n",
    "\n",
    "I have listed out below examples of data manipulation using pandas in Python code:  "
   ]
  },
  {
   "cell_type": "code",
   "execution_count": 4,
   "id": "98b9c5c5-ad64-421b-b6fb-bff480464682",
   "metadata": {},
   "outputs": [
    {
     "name": "stdout",
     "output_type": "stream",
     "text": [
      "Filteed DataFrame: \n",
      "       Name  Age  Salary\n",
      "2  Mr Robot   35   70000\n",
      "\n",
      "Grouped DataFrame: \n",
      "      Salary\n",
      "Age         \n",
      "25   90000.0\n",
      "28   60000.0\n",
      "35   70000.0\n",
      "\n",
      "Merged DataFrame: \n",
      "        Name_x  Age   Salary            Name_y\n",
      "0   Jany Muong   25  90000.0               NaN\n",
      "1  Satoru Gojo   28  60000.0               NaN\n",
      "2     Mr Robot   35  70000.0               NaN\n",
      "3          NaN   16      NaN             Panda\n",
      "4          NaN   15      NaN  Megumi Fushiguro\n"
     ]
    }
   ],
   "source": [
    "import pandas as pd\n",
    "\n",
    "# this a Python data structure - dictionary\n",
    "data = {'Name': ['Jany Muong', 'Satoru Gojo', 'Mr Robot'],\n",
    "        'Age': [25, 28, 35],\n",
    "        'Salary': [90000, 60000, 70000]}\n",
    "\n",
    "# this is a DataFrame created from a dictionary above\n",
    "df = pd.DataFrame(data)\n",
    "\n",
    "# filtering\n",
    "filtered_df = df[df['Age'] > 28]\n",
    "\n",
    "# grouping and aggregation\n",
    "grouped_df = df.groupby('Age').agg({'Salary': 'mean'})\n",
    "\n",
    "# merging DataFrames\n",
    "anime_data = {'Name': ['Panda', 'Megumi Fushiguro'], 'Age': [16, 15]}\n",
    "anime_data = pd.DataFrame(anime_data)\n",
    "merged_df = pd.merge(df, anime_data, on='Age', how='outer')\n",
    "\n",
    "print(f'Filteed DataFrame: \\n{filtered_df}')\n",
    "print()\n",
    "print(f'Grouped DataFrame: \\n{grouped_df}')\n",
    "print()\n",
    "print(f'Merged DataFrame: \\n{merged_df}')"
   ]
  },
  {
   "cell_type": "markdown",
   "id": "598e2fd8-590c-4772-b413-c17c71183a7f",
   "metadata": {},
   "source": [
    "## d) Importance of Symbolic Computation  \n",
    "\n",
    "Symbolic computation deals with manipulating mathematical expressions in symbolic form (letters, variables) instead of numerical values. It plays a vital role in scientific computing for several reasons as listed out:\n",
    "\n",
    "- **Mathematical Modeling**: Symbolic computation facilitates the creation and manipulation of mathematical models in various scientific domains, such as physics, engineering, and mathematics. Researchers and practitioners can express and analyze complex systems and phenomena through symbolic representations, leading to deeper insights and predictions.  \n",
    "- **Exact Representation**: Symbolic computation systems work with mathematical expressions symbolically, allowing for exact representation and manipulation of mathematical entities like equations, variables, and functions. This precision is vital for maintaining accuracy in scientific calculations and analyses.  \n",
    "- **Algebraic Manipulations**: Symbolic computation systems can perform complex algebraic manipulations, including simplification, expansion, differentiation, integration, and solving equations symbolically. These capabilities are fundamental in many scientific disciplines for deriving analytical solutions and understanding mathematical relationships.\n",
    "- **Analytical solutions:** Symbolic computation allows deriving analytical solutions to mathematical problems, providing insights beyond just numerical results. This can be crucial for understanding the underlying relationships between variables.  \n",
    "- **Simplification:** Symbolic computation can simplify complex expressions, making them easier to interpret and manipulate.\n",
    "- **Code generation:** Symbolic computation tools can generate optimized code for numerical computations based on derived symbolic expressions.  \n",
    "- **Verification and Validation and Error analysis**: Symbolic manipulation helps analyze the behavior and potential errors in mathematical models before numerical computation. This ensures the accuracy and validity of the obtained results. Also, symbolic computations enable verification and validation of numerical algorithms and results. By comparing symbolic solutions with numerical computations, researchers can detect errors, ensure algorithm correctness, and improve the reliability of scientific simulations and analyses."
   ]
  },
  {
   "cell_type": "markdown",
   "id": "c9cf61e2-f1f0-43cb-8175-a8a29fe52045",
   "metadata": {},
   "source": [
    "## End File"
   ]
  }
 ],
 "metadata": {
  "kernelspec": {
   "display_name": "Python 3 (ipykernel)",
   "language": "python",
   "name": "python3"
  },
  "language_info": {
   "codemirror_mode": {
    "name": "ipython",
    "version": 3
   },
   "file_extension": ".py",
   "mimetype": "text/x-python",
   "name": "python",
   "nbconvert_exporter": "python",
   "pygments_lexer": "ipython3",
   "version": "3.11.5"
  }
 },
 "nbformat": 4,
 "nbformat_minor": 5
}
